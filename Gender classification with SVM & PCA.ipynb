{
 "cells": [
  {
   "cell_type": "markdown",
   "id": "1ce2011c",
   "metadata": {},
   "source": [
    "# Dataset used is available at:\n",
    "https://www.kaggle.com/elakiricoder/gender-classification-dataset"
   ]
  },
  {
   "cell_type": "markdown",
   "id": "6980c70e",
   "metadata": {},
   "source": [
    "# - Import the libraries that will be used"
   ]
  },
  {
   "cell_type": "code",
   "execution_count": 16,
   "id": "4900e7e3",
   "metadata": {},
   "outputs": [],
   "source": [
    "import pandas as pd\n",
    "import numpy as np\n",
    "import matplotlib.pyplot as plt\n",
    "import seaborn as sns\n",
    "import time\n",
    "\n",
    "%matplotlib inline\n",
    "sns.set_style('whitegrid')\n",
    "from sklearn.preprocessing import StandardScaler\n",
    "from sklearn.model_selection import cross_val_score, train_test_split\n",
    "from sklearn.pipeline import Pipeline\n",
    "from sklearn.metrics import accuracy_score, confusion_matrix, f1_score\n",
    "from sklearn.svm import SVC\n",
    "from sklearn.decomposition import PCA\n",
    "from sklearn.model_selection import GridSearchCV"
   ]
  },
  {
   "cell_type": "markdown",
   "id": "5ed8cf79",
   "metadata": {},
   "source": [
    "# - Import the gender_classification dataset and explore data"
   ]
  },
  {
   "cell_type": "code",
   "execution_count": 2,
   "id": "3c5d03d0",
   "metadata": {},
   "outputs": [],
   "source": [
    "gender_df = pd.read_csv('gender_classification_v7.csv')"
   ]
  },
  {
   "cell_type": "code",
   "execution_count": 3,
   "id": "6c88ee33",
   "metadata": {},
   "outputs": [
    {
     "data": {
      "text/html": [
       "<div>\n",
       "<style scoped>\n",
       "    .dataframe tbody tr th:only-of-type {\n",
       "        vertical-align: middle;\n",
       "    }\n",
       "\n",
       "    .dataframe tbody tr th {\n",
       "        vertical-align: top;\n",
       "    }\n",
       "\n",
       "    .dataframe thead th {\n",
       "        text-align: right;\n",
       "    }\n",
       "</style>\n",
       "<table border=\"1\" class=\"dataframe\">\n",
       "  <thead>\n",
       "    <tr style=\"text-align: right;\">\n",
       "      <th></th>\n",
       "      <th>long_hair</th>\n",
       "      <th>forehead_width_cm</th>\n",
       "      <th>forehead_height_cm</th>\n",
       "      <th>nose_wide</th>\n",
       "      <th>nose_long</th>\n",
       "      <th>lips_thin</th>\n",
       "      <th>distance_nose_to_lip_long</th>\n",
       "      <th>gender</th>\n",
       "    </tr>\n",
       "  </thead>\n",
       "  <tbody>\n",
       "    <tr>\n",
       "      <th>0</th>\n",
       "      <td>1</td>\n",
       "      <td>11.8</td>\n",
       "      <td>6.1</td>\n",
       "      <td>1</td>\n",
       "      <td>0</td>\n",
       "      <td>1</td>\n",
       "      <td>1</td>\n",
       "      <td>Male</td>\n",
       "    </tr>\n",
       "    <tr>\n",
       "      <th>1</th>\n",
       "      <td>0</td>\n",
       "      <td>14.0</td>\n",
       "      <td>5.4</td>\n",
       "      <td>0</td>\n",
       "      <td>0</td>\n",
       "      <td>1</td>\n",
       "      <td>0</td>\n",
       "      <td>Female</td>\n",
       "    </tr>\n",
       "    <tr>\n",
       "      <th>2</th>\n",
       "      <td>0</td>\n",
       "      <td>11.8</td>\n",
       "      <td>6.3</td>\n",
       "      <td>1</td>\n",
       "      <td>1</td>\n",
       "      <td>1</td>\n",
       "      <td>1</td>\n",
       "      <td>Male</td>\n",
       "    </tr>\n",
       "    <tr>\n",
       "      <th>3</th>\n",
       "      <td>0</td>\n",
       "      <td>14.4</td>\n",
       "      <td>6.1</td>\n",
       "      <td>0</td>\n",
       "      <td>1</td>\n",
       "      <td>1</td>\n",
       "      <td>1</td>\n",
       "      <td>Male</td>\n",
       "    </tr>\n",
       "    <tr>\n",
       "      <th>4</th>\n",
       "      <td>1</td>\n",
       "      <td>13.5</td>\n",
       "      <td>5.9</td>\n",
       "      <td>0</td>\n",
       "      <td>0</td>\n",
       "      <td>0</td>\n",
       "      <td>0</td>\n",
       "      <td>Female</td>\n",
       "    </tr>\n",
       "  </tbody>\n",
       "</table>\n",
       "</div>"
      ],
      "text/plain": [
       "   long_hair  forehead_width_cm  forehead_height_cm  nose_wide  nose_long  \\\n",
       "0          1               11.8                 6.1          1          0   \n",
       "1          0               14.0                 5.4          0          0   \n",
       "2          0               11.8                 6.3          1          1   \n",
       "3          0               14.4                 6.1          0          1   \n",
       "4          1               13.5                 5.9          0          0   \n",
       "\n",
       "   lips_thin  distance_nose_to_lip_long  gender  \n",
       "0          1                          1    Male  \n",
       "1          1                          0  Female  \n",
       "2          1                          1    Male  \n",
       "3          1                          1    Male  \n",
       "4          0                          0  Female  "
      ]
     },
     "execution_count": 3,
     "metadata": {},
     "output_type": "execute_result"
    }
   ],
   "source": [
    "gender_df.head()"
   ]
  },
  {
   "cell_type": "code",
   "execution_count": 4,
   "id": "e36379f9",
   "metadata": {},
   "outputs": [
    {
     "name": "stdout",
     "output_type": "stream",
     "text": [
      "<class 'pandas.core.frame.DataFrame'>\n",
      "RangeIndex: 5001 entries, 0 to 5000\n",
      "Data columns (total 8 columns):\n",
      " #   Column                     Non-Null Count  Dtype  \n",
      "---  ------                     --------------  -----  \n",
      " 0   long_hair                  5001 non-null   int64  \n",
      " 1   forehead_width_cm          5001 non-null   float64\n",
      " 2   forehead_height_cm         5001 non-null   float64\n",
      " 3   nose_wide                  5001 non-null   int64  \n",
      " 4   nose_long                  5001 non-null   int64  \n",
      " 5   lips_thin                  5001 non-null   int64  \n",
      " 6   distance_nose_to_lip_long  5001 non-null   int64  \n",
      " 7   gender                     5001 non-null   object \n",
      "dtypes: float64(2), int64(5), object(1)\n",
      "memory usage: 312.7+ KB\n"
     ]
    }
   ],
   "source": [
    "gender_df.info()"
   ]
  },
  {
   "cell_type": "markdown",
   "id": "288ecbcc",
   "metadata": {},
   "source": [
    "## - Visualize percentage of each class in dataset "
   ]
  },
  {
   "cell_type": "code",
   "execution_count": 5,
   "id": "6b056abe",
   "metadata": {},
   "outputs": [
    {
     "name": "stderr",
     "output_type": "stream",
     "text": [
      "C:\\Users\\salma\\anaconda3\\lib\\site-packages\\seaborn\\_decorators.py:36: FutureWarning: Pass the following variable as a keyword arg: x. From version 0.12, the only valid positional argument will be `data`, and passing other arguments without an explicit keyword will result in an error or misinterpretation.\n",
      "  warnings.warn(\n"
     ]
    },
    {
     "data": {
      "text/plain": [
       "<AxesSubplot:xlabel='gender', ylabel='count'>"
      ]
     },
     "execution_count": 5,
     "metadata": {},
     "output_type": "execute_result"
    },
    {
     "data": {
      "image/png": "[encoded data removed]",
      "text/plain": [
       "<Figure size 432x288 with 1 Axes>"
      ]
     },
     "metadata": {},
     "output_type": "display_data"
    }
   ],
   "source": [
    "sns.countplot(gender_df['gender'], label = \"Count\")\n"
   ]
  },
  {
   "cell_type": "markdown",
   "id": "5ed68113",
   "metadata": {},
   "source": [
    " ## - plot correlation between features to check if there are obvious dimensions to be removed"
   ]
  },
  {
   "cell_type": "code",
   "execution_count": 6,
   "id": "9cac729b",
   "metadata": {},
   "outputs": [
    {
     "data": {
      "text/plain": [
       "<AxesSubplot:>"
      ]
     },
     "execution_count": 6,
     "metadata": {},
     "output_type": "execute_result"
    },
    {
     "data": {
      "image/png": "[encoded data removed]",
      "text/plain": [
       "<Figure size 1440x720 with 2 Axes>"
      ]
     },
     "metadata": {},
     "output_type": "display_data"
    }
   ],
   "source": [
    "plt.figure(figsize=(20,10)) \n",
    "sns.heatmap(gender_df.corr(), annot=True)"
   ]
  },
  {
   "cell_type": "markdown",
   "id": "22ac0564",
   "metadata": {},
   "source": [
    "### - Highest correlation is 0.57\n",
    "    - We start applying PCA by normalizing the data so that the mean is 0 and the variance is 1 for all features\n",
    "    - We get all possible principal components for dataset to check the variance that each component adds"
   ]
  },
  {
   "cell_type": "code",
   "execution_count": 20,
   "id": "ac69bbbe",
   "metadata": {},
   "outputs": [
    {
     "data": {
      "text/plain": [
       "0       0\n",
       "1       1\n",
       "2       0\n",
       "3       0\n",
       "4       1\n",
       "       ..\n",
       "4996    1\n",
       "4997    1\n",
       "4998    1\n",
       "4999    1\n",
       "5000    0\n",
       "Name: gender, Length: 5001, dtype: int64"
      ]
     },
     "execution_count": 20,
     "metadata": {},
     "output_type": "execute_result"
    }
   ],
   "source": [
    "X = gender_df.drop('gender', axis = 1)\n",
    "y = gender_df.gender\n",
    "std_X = StandardScaler().fit_transform(X) # normalizing the data \n",
    "\n",
    "pca = PCA(n_components=7)\n",
    "principalComponents = pca.fit_transform(std_X)\n",
    "y = y.replace('Male', 0)\n",
    "y = y.replace('Female', 1)\n",
    "y"
   ]
  },
  {
   "cell_type": "markdown",
   "id": "eca51372",
   "metadata": {},
   "source": [
    "## - We check the mean and variance before and after normalizing using sklearn's StandardScaler() "
   ]
  },
  {
   "cell_type": "markdown",
   "id": "a490162e",
   "metadata": {},
   "source": [
    "Before:"
   ]
  },
  {
   "cell_type": "code",
   "execution_count": 21,
   "id": "ccde8d2a",
   "metadata": {},
   "outputs": [
    {
     "data": {
      "text/html": [
       "<div>\n",
       "<style scoped>\n",
       "    .dataframe tbody tr th:only-of-type {\n",
       "        vertical-align: middle;\n",
       "    }\n",
       "\n",
       "    .dataframe tbody tr th {\n",
       "        vertical-align: top;\n",
       "    }\n",
       "\n",
       "    .dataframe thead th {\n",
       "        text-align: right;\n",
       "    }\n",
       "</style>\n",
       "<table border=\"1\" class=\"dataframe\">\n",
       "  <thead>\n",
       "    <tr style=\"text-align: right;\">\n",
       "      <th></th>\n",
       "      <th>long_hair</th>\n",
       "      <th>forehead_width_cm</th>\n",
       "      <th>forehead_height_cm</th>\n",
       "      <th>nose_wide</th>\n",
       "      <th>nose_long</th>\n",
       "      <th>lips_thin</th>\n",
       "      <th>distance_nose_to_lip_long</th>\n",
       "    </tr>\n",
       "  </thead>\n",
       "  <tbody>\n",
       "    <tr>\n",
       "      <th>count</th>\n",
       "      <td>5001.000000</td>\n",
       "      <td>5001.000000</td>\n",
       "      <td>5001.000000</td>\n",
       "      <td>5001.000000</td>\n",
       "      <td>5001.000000</td>\n",
       "      <td>5001.000000</td>\n",
       "      <td>5001.000000</td>\n",
       "    </tr>\n",
       "    <tr>\n",
       "      <th>mean</th>\n",
       "      <td>0.869626</td>\n",
       "      <td>13.181484</td>\n",
       "      <td>5.946311</td>\n",
       "      <td>0.493901</td>\n",
       "      <td>0.507898</td>\n",
       "      <td>0.493101</td>\n",
       "      <td>0.498900</td>\n",
       "    </tr>\n",
       "    <tr>\n",
       "      <th>std</th>\n",
       "      <td>0.336748</td>\n",
       "      <td>1.107128</td>\n",
       "      <td>0.541268</td>\n",
       "      <td>0.500013</td>\n",
       "      <td>0.499988</td>\n",
       "      <td>0.500002</td>\n",
       "      <td>0.500049</td>\n",
       "    </tr>\n",
       "    <tr>\n",
       "      <th>min</th>\n",
       "      <td>0.000000</td>\n",
       "      <td>11.400000</td>\n",
       "      <td>5.100000</td>\n",
       "      <td>0.000000</td>\n",
       "      <td>0.000000</td>\n",
       "      <td>0.000000</td>\n",
       "      <td>0.000000</td>\n",
       "    </tr>\n",
       "    <tr>\n",
       "      <th>25%</th>\n",
       "      <td>1.000000</td>\n",
       "      <td>12.200000</td>\n",
       "      <td>5.500000</td>\n",
       "      <td>0.000000</td>\n",
       "      <td>0.000000</td>\n",
       "      <td>0.000000</td>\n",
       "      <td>0.000000</td>\n",
       "    </tr>\n",
       "    <tr>\n",
       "      <th>50%</th>\n",
       "      <td>1.000000</td>\n",
       "      <td>13.100000</td>\n",
       "      <td>5.900000</td>\n",
       "      <td>0.000000</td>\n",
       "      <td>1.000000</td>\n",
       "      <td>0.000000</td>\n",
       "      <td>0.000000</td>\n",
       "    </tr>\n",
       "    <tr>\n",
       "      <th>75%</th>\n",
       "      <td>1.000000</td>\n",
       "      <td>14.000000</td>\n",
       "      <td>6.400000</td>\n",
       "      <td>1.000000</td>\n",
       "      <td>1.000000</td>\n",
       "      <td>1.000000</td>\n",
       "      <td>1.000000</td>\n",
       "    </tr>\n",
       "    <tr>\n",
       "      <th>max</th>\n",
       "      <td>1.000000</td>\n",
       "      <td>15.500000</td>\n",
       "      <td>7.100000</td>\n",
       "      <td>1.000000</td>\n",
       "      <td>1.000000</td>\n",
       "      <td>1.000000</td>\n",
       "      <td>1.000000</td>\n",
       "    </tr>\n",
       "  </tbody>\n",
       "</table>\n",
       "</div>"
      ],
      "text/plain": [
       "         long_hair  forehead_width_cm  forehead_height_cm    nose_wide  \\\n",
       "count  5001.000000        5001.000000         5001.000000  5001.000000   \n",
       "mean      0.869626          13.181484            5.946311     0.493901   \n",
       "std       0.336748           1.107128            0.541268     0.500013   \n",
       "min       0.000000          11.400000            5.100000     0.000000   \n",
       "25%       1.000000          12.200000            5.500000     0.000000   \n",
       "50%       1.000000          13.100000            5.900000     0.000000   \n",
       "75%       1.000000          14.000000            6.400000     1.000000   \n",
       "max       1.000000          15.500000            7.100000     1.000000   \n",
       "\n",
       "         nose_long    lips_thin  distance_nose_to_lip_long  \n",
       "count  5001.000000  5001.000000                5001.000000  \n",
       "mean      0.507898     0.493101                   0.498900  \n",
       "std       0.499988     0.500002                   0.500049  \n",
       "min       0.000000     0.000000                   0.000000  \n",
       "25%       0.000000     0.000000                   0.000000  \n",
       "50%       1.000000     0.000000                   0.000000  \n",
       "75%       1.000000     1.000000                   1.000000  \n",
       "max       1.000000     1.000000                   1.000000  "
      ]
     },
     "execution_count": 21,
     "metadata": {},
     "output_type": "execute_result"
    }
   ],
   "source": [
    "X.describe()"
   ]
  },
  {
   "cell_type": "markdown",
   "id": "f426b1ea",
   "metadata": {},
   "source": [
    "After:"
   ]
  },
  {
   "cell_type": "code",
   "execution_count": 22,
   "id": "337abb9d",
   "metadata": {},
   "outputs": [
    {
     "data": {
      "text/plain": [
       "(-1.274661747814274e-16, 1.0)"
      ]
     },
     "execution_count": 22,
     "metadata": {},
     "output_type": "execute_result"
    }
   ],
   "source": [
    "std_X.mean(), std_X.std()"
   ]
  },
  {
   "cell_type": "markdown",
   "id": "4c8ad36d",
   "metadata": {},
   "source": [
    "## - Plot the variance ratio for each principal components to determine how many components to include in training"
   ]
  },
  {
   "cell_type": "code",
   "execution_count": 23,
   "id": "3bd9715b",
   "metadata": {},
   "outputs": [
    {
     "data": {
      "text/plain": [
       "([<matplotlib.axis.XTick at 0x1d188d04100>,\n",
       "  <matplotlib.axis.XTick at 0x1d188d040d0>,\n",
       "  <matplotlib.axis.XTick at 0x1d188b6d670>,\n",
       "  <matplotlib.axis.XTick at 0x1d188d39880>,\n",
       "  <matplotlib.axis.XTick at 0x1d188d3f0d0>,\n",
       "  <matplotlib.axis.XTick at 0x1d188d3f760>,\n",
       "  <matplotlib.axis.XTick at 0x1d188d3feb0>],\n",
       " [Text(0, 0, ''),\n",
       "  Text(0, 0, ''),\n",
       "  Text(0, 0, ''),\n",
       "  Text(0, 0, ''),\n",
       "  Text(0, 0, ''),\n",
       "  Text(0, 0, ''),\n",
       "  Text(0, 0, '')])"
      ]
     },
     "execution_count": 23,
     "metadata": {},
     "output_type": "execute_result"
    },
    {
     "data": {
      "image/png": "[encoded data removed]",
      "text/plain": [
       "<Figure size 432x288 with 1 Axes>"
      ]
     },
     "metadata": {},
     "output_type": "display_data"
    }
   ],
   "source": [
    "PC = range(1, pca.n_components_+1)\n",
    "plt.bar(PC, pca.explained_variance_ratio_, color='gold')\n",
    "plt.xlabel('Principal Components')\n",
    "plt.ylabel('Variance %')\n",
    "plt.xticks(PC)"
   ]
  },
  {
   "cell_type": "markdown",
   "id": "d5d696fd",
   "metadata": {},
   "source": [
    "## - Split the dataset into training and testing"
   ]
  },
  {
   "cell_type": "code",
   "execution_count": 24,
   "id": "38d595e8",
   "metadata": {},
   "outputs": [],
   "source": [
    "X_train, X_test, y_train, y_test = train_test_split(std_X, y, test_size=0.3, random_state=42)\n"
   ]
  },
  {
   "cell_type": "markdown",
   "id": "1e9c8b57",
   "metadata": {},
   "source": [
    "## - Search for the best hyperparameters for the support vector machine model and print the results of the search"
   ]
  },
  {
   "cell_type": "code",
   "execution_count": 12,
   "id": "0ff3d12a",
   "metadata": {},
   "outputs": [
    {
     "name": "stdout",
     "output_type": "stream",
     "text": [
      "Fitting 5 folds for each of 27 candidates, totalling 135 fits\n",
      "[CV 1/5] END .....C=0.1, gamma=1, kernel=linear;, score=0.966 total time=   0.0s\n",
      "[CV 2/5] END .....C=0.1, gamma=1, kernel=linear;, score=0.966 total time=   0.0s\n",
      "[CV 3/5] END .....C=0.1, gamma=1, kernel=linear;, score=0.969 total time=   0.0s\n",
      "[CV 4/5] END .....C=0.1, gamma=1, kernel=linear;, score=0.966 total time=   0.0s\n",
      "[CV 5/5] END .....C=0.1, gamma=1, kernel=linear;, score=0.964 total time=   0.0s\n",
      "[CV 1/5] END .......C=0.1, gamma=1, kernel=poly;, score=0.969 total time=   0.0s\n",
      "[CV 2/5] END .......C=0.1, gamma=1, kernel=poly;, score=0.971 total time=   0.0s\n",
      "[CV 3/5] END .......C=0.1, gamma=1, kernel=poly;, score=0.976 total time=   0.0s\n",
      "[CV 4/5] END .......C=0.1, gamma=1, kernel=poly;, score=0.966 total time=   0.0s\n",
      "[CV 5/5] END .......C=0.1, gamma=1, kernel=poly;, score=0.967 total time=   0.0s\n",
      "[CV 1/5] END ........C=0.1, gamma=1, kernel=rbf;, score=0.949 total time=   0.3s\n",
      "[CV 2/5] END ........C=0.1, gamma=1, kernel=rbf;, score=0.966 total time=   0.4s\n",
      "[CV 3/5] END ........C=0.1, gamma=1, kernel=rbf;, score=0.969 total time=   0.3s\n",
      "[CV 4/5] END ........C=0.1, gamma=1, kernel=rbf;, score=0.953 total time=   0.3s\n",
      "[CV 5/5] END ........C=0.1, gamma=1, kernel=rbf;, score=0.969 total time=   0.3s\n",
      "[CV 1/5] END ...C=0.1, gamma=0.1, kernel=linear;, score=0.966 total time=   0.0s\n",
      "[CV 2/5] END ...C=0.1, gamma=0.1, kernel=linear;, score=0.966 total time=   0.0s\n",
      "[CV 3/5] END ...C=0.1, gamma=0.1, kernel=linear;, score=0.969 total time=   0.0s\n",
      "[CV 4/5] END ...C=0.1, gamma=0.1, kernel=linear;, score=0.966 total time=   0.0s\n",
      "[CV 5/5] END ...C=0.1, gamma=0.1, kernel=linear;, score=0.964 total time=   0.0s\n",
      "[CV 1/5] END .....C=0.1, gamma=0.1, kernel=poly;, score=0.970 total time=   0.1s\n",
      "[CV 2/5] END .....C=0.1, gamma=0.1, kernel=poly;, score=0.966 total time=   0.1s\n",
      "[CV 3/5] END .....C=0.1, gamma=0.1, kernel=poly;, score=0.976 total time=   0.1s\n",
      "[CV 4/5] END .....C=0.1, gamma=0.1, kernel=poly;, score=0.966 total time=   0.0s\n",
      "[CV 5/5] END .....C=0.1, gamma=0.1, kernel=poly;, score=0.964 total time=   0.1s\n",
      "[CV 1/5] END ......C=0.1, gamma=0.1, kernel=rbf;, score=0.971 total time=   0.1s\n",
      "[CV 2/5] END ......C=0.1, gamma=0.1, kernel=rbf;, score=0.967 total time=   0.1s\n",
      "[CV 3/5] END ......C=0.1, gamma=0.1, kernel=rbf;, score=0.971 total time=   0.1s\n",
      "[CV 4/5] END ......C=0.1, gamma=0.1, kernel=rbf;, score=0.964 total time=   0.1s\n",
      "[CV 5/5] END ......C=0.1, gamma=0.1, kernel=rbf;, score=0.967 total time=   0.1s\n",
      "[CV 1/5] END ..C=0.1, gamma=0.01, kernel=linear;, score=0.966 total time=   0.0s\n",
      "[CV 2/5] END ..C=0.1, gamma=0.01, kernel=linear;, score=0.966 total time=   0.0s\n",
      "[CV 3/5] END ..C=0.1, gamma=0.01, kernel=linear;, score=0.969 total time=   0.0s\n",
      "[CV 4/5] END ..C=0.1, gamma=0.01, kernel=linear;, score=0.966 total time=   0.0s\n",
      "[CV 5/5] END ..C=0.1, gamma=0.01, kernel=linear;, score=0.964 total time=   0.0s\n",
      "[CV 1/5] END ....C=0.1, gamma=0.01, kernel=poly;, score=0.503 total time=   0.5s\n",
      "[CV 2/5] END ....C=0.1, gamma=0.01, kernel=poly;, score=0.503 total time=   0.5s\n",
      "[CV 3/5] END ....C=0.1, gamma=0.01, kernel=poly;, score=0.503 total time=   0.5s\n",
      "[CV 4/5] END ....C=0.1, gamma=0.01, kernel=poly;, score=0.504 total time=   0.5s\n",
      "[CV 5/5] END ....C=0.1, gamma=0.01, kernel=poly;, score=0.504 total time=   0.5s\n",
      "[CV 1/5] END .....C=0.1, gamma=0.01, kernel=rbf;, score=0.969 total time=   0.2s\n",
      "[CV 2/5] END .....C=0.1, gamma=0.01, kernel=rbf;, score=0.963 total time=   0.2s\n",
      "[CV 3/5] END .....C=0.1, gamma=0.01, kernel=rbf;, score=0.971 total time=   0.2s\n",
      "[CV 4/5] END .....C=0.1, gamma=0.01, kernel=rbf;, score=0.967 total time=   0.2s\n",
      "[CV 5/5] END .....C=0.1, gamma=0.01, kernel=rbf;, score=0.969 total time=   0.2s\n",
      "[CV 1/5] END .......C=1, gamma=1, kernel=linear;, score=0.964 total time=   0.0s\n",
      "[CV 2/5] END .......C=1, gamma=1, kernel=linear;, score=0.964 total time=   0.0s\n",
      "[CV 3/5] END .......C=1, gamma=1, kernel=linear;, score=0.969 total time=   0.0s\n",
      "[CV 4/5] END .......C=1, gamma=1, kernel=linear;, score=0.967 total time=   0.0s\n",
      "[CV 5/5] END .......C=1, gamma=1, kernel=linear;, score=0.961 total time=   0.0s\n",
      "[CV 1/5] END .........C=1, gamma=1, kernel=poly;, score=0.963 total time=   0.3s\n",
      "[CV 2/5] END .........C=1, gamma=1, kernel=poly;, score=0.967 total time=   0.2s\n",
      "[CV 3/5] END .........C=1, gamma=1, kernel=poly;, score=0.973 total time=   0.1s\n",
      "[CV 4/5] END .........C=1, gamma=1, kernel=poly;, score=0.964 total time=   0.3s\n",
      "[CV 5/5] END .........C=1, gamma=1, kernel=poly;, score=0.966 total time=   0.2s\n",
      "[CV 1/5] END ..........C=1, gamma=1, kernel=rbf;, score=0.969 total time=   0.1s\n",
      "[CV 2/5] END ..........C=1, gamma=1, kernel=rbf;, score=0.969 total time=   0.2s\n",
      "[CV 3/5] END ..........C=1, gamma=1, kernel=rbf;, score=0.973 total time=   0.2s\n",
      "[CV 4/5] END ..........C=1, gamma=1, kernel=rbf;, score=0.970 total time=   0.2s\n",
      "[CV 5/5] END ..........C=1, gamma=1, kernel=rbf;, score=0.966 total time=   0.2s\n",
      "[CV 1/5] END .....C=1, gamma=0.1, kernel=linear;, score=0.964 total time=   0.0s\n",
      "[CV 2/5] END .....C=1, gamma=0.1, kernel=linear;, score=0.964 total time=   0.0s\n",
      "[CV 3/5] END .....C=1, gamma=0.1, kernel=linear;, score=0.969 total time=   0.0s\n",
      "[CV 4/5] END .....C=1, gamma=0.1, kernel=linear;, score=0.967 total time=   0.0s\n",
      "[CV 5/5] END .....C=1, gamma=0.1, kernel=linear;, score=0.961 total time=   0.0s\n",
      "[CV 1/5] END .......C=1, gamma=0.1, kernel=poly;, score=0.966 total time=   0.0s\n",
      "[CV 2/5] END .......C=1, gamma=0.1, kernel=poly;, score=0.966 total time=   0.0s\n",
      "[CV 3/5] END .......C=1, gamma=0.1, kernel=poly;, score=0.974 total time=   0.0s\n",
      "[CV 4/5] END .......C=1, gamma=0.1, kernel=poly;, score=0.966 total time=   0.0s\n",
      "[CV 5/5] END .......C=1, gamma=0.1, kernel=poly;, score=0.961 total time=   0.0s\n",
      "[CV 1/5] END ........C=1, gamma=0.1, kernel=rbf;, score=0.974 total time=   0.0s\n",
      "[CV 2/5] END ........C=1, gamma=0.1, kernel=rbf;, score=0.976 total time=   0.0s\n",
      "[CV 3/5] END ........C=1, gamma=0.1, kernel=rbf;, score=0.976 total time=   0.0s\n",
      "[CV 4/5] END ........C=1, gamma=0.1, kernel=rbf;, score=0.970 total time=   0.0s\n",
      "[CV 5/5] END ........C=1, gamma=0.1, kernel=rbf;, score=0.974 total time=   0.0s\n",
      "[CV 1/5] END ....C=1, gamma=0.01, kernel=linear;, score=0.964 total time=   0.0s\n",
      "[CV 2/5] END ....C=1, gamma=0.01, kernel=linear;, score=0.964 total time=   0.0s\n",
      "[CV 3/5] END ....C=1, gamma=0.01, kernel=linear;, score=0.969 total time=   0.0s\n",
      "[CV 4/5] END ....C=1, gamma=0.01, kernel=linear;, score=0.967 total time=   0.0s\n",
      "[CV 5/5] END ....C=1, gamma=0.01, kernel=linear;, score=0.961 total time=   0.0s\n",
      "[CV 1/5] END ......C=1, gamma=0.01, kernel=poly;, score=0.507 total time=   0.5s\n",
      "[CV 2/5] END ......C=1, gamma=0.01, kernel=poly;, score=0.504 total time=   0.5s\n",
      "[CV 3/5] END ......C=1, gamma=0.01, kernel=poly;, score=0.504 total time=   0.5s\n",
      "[CV 4/5] END ......C=1, gamma=0.01, kernel=poly;, score=0.504 total time=   0.5s\n",
      "[CV 5/5] END ......C=1, gamma=0.01, kernel=poly;, score=0.507 total time=   0.5s\n",
      "[CV 1/5] END .......C=1, gamma=0.01, kernel=rbf;, score=0.967 total time=   0.0s\n",
      "[CV 2/5] END .......C=1, gamma=0.01, kernel=rbf;, score=0.963 total time=   0.0s\n",
      "[CV 3/5] END .......C=1, gamma=0.01, kernel=rbf;, score=0.973 total time=   0.0s\n",
      "[CV 4/5] END .......C=1, gamma=0.01, kernel=rbf;, score=0.966 total time=   0.0s\n",
      "[CV 5/5] END .......C=1, gamma=0.01, kernel=rbf;, score=0.969 total time=   0.0s\n",
      "[CV 1/5] END ......C=10, gamma=1, kernel=linear;, score=0.967 total time=   0.0s\n",
      "[CV 2/5] END ......C=10, gamma=1, kernel=linear;, score=0.964 total time=   0.0s\n",
      "[CV 3/5] END ......C=10, gamma=1, kernel=linear;, score=0.969 total time=   0.0s\n",
      "[CV 4/5] END ......C=10, gamma=1, kernel=linear;, score=0.967 total time=   0.0s\n",
      "[CV 5/5] END ......C=10, gamma=1, kernel=linear;, score=0.964 total time=   0.0s\n",
      "[CV 1/5] END ........C=10, gamma=1, kernel=poly;, score=0.963 total time=   1.9s\n",
      "[CV 2/5] END ........C=10, gamma=1, kernel=poly;, score=0.969 total time=   3.5s\n",
      "[CV 3/5] END ........C=10, gamma=1, kernel=poly;, score=0.971 total time=   4.0s\n",
      "[CV 4/5] END ........C=10, gamma=1, kernel=poly;, score=0.964 total time=   3.6s\n",
      "[CV 5/5] END ........C=10, gamma=1, kernel=poly;, score=0.967 total time=   3.5s\n",
      "[CV 1/5] END .........C=10, gamma=1, kernel=rbf;, score=0.967 total time=   0.1s\n"
     ]
    },
    {
     "name": "stdout",
     "output_type": "stream",
     "text": [
      "[CV 2/5] END .........C=10, gamma=1, kernel=rbf;, score=0.966 total time=   0.1s\n",
      "[CV 3/5] END .........C=10, gamma=1, kernel=rbf;, score=0.974 total time=   0.1s\n",
      "[CV 4/5] END .........C=10, gamma=1, kernel=rbf;, score=0.970 total time=   0.1s\n",
      "[CV 5/5] END .........C=10, gamma=1, kernel=rbf;, score=0.973 total time=   0.1s\n",
      "[CV 1/5] END ....C=10, gamma=0.1, kernel=linear;, score=0.967 total time=   0.0s\n",
      "[CV 2/5] END ....C=10, gamma=0.1, kernel=linear;, score=0.964 total time=   0.0s\n",
      "[CV 3/5] END ....C=10, gamma=0.1, kernel=linear;, score=0.969 total time=   0.0s\n",
      "[CV 4/5] END ....C=10, gamma=0.1, kernel=linear;, score=0.967 total time=   0.0s\n",
      "[CV 5/5] END ....C=10, gamma=0.1, kernel=linear;, score=0.964 total time=   0.0s\n",
      "[CV 1/5] END ......C=10, gamma=0.1, kernel=poly;, score=0.963 total time=   0.0s\n",
      "[CV 2/5] END ......C=10, gamma=0.1, kernel=poly;, score=0.967 total time=   0.0s\n",
      "[CV 3/5] END ......C=10, gamma=0.1, kernel=poly;, score=0.974 total time=   0.0s\n",
      "[CV 4/5] END ......C=10, gamma=0.1, kernel=poly;, score=0.966 total time=   0.0s\n",
      "[CV 5/5] END ......C=10, gamma=0.1, kernel=poly;, score=0.964 total time=   0.0s\n",
      "[CV 1/5] END .......C=10, gamma=0.1, kernel=rbf;, score=0.974 total time=   0.0s\n",
      "[CV 2/5] END .......C=10, gamma=0.1, kernel=rbf;, score=0.974 total time=   0.0s\n",
      "[CV 3/5] END .......C=10, gamma=0.1, kernel=rbf;, score=0.974 total time=   0.0s\n",
      "[CV 4/5] END .......C=10, gamma=0.1, kernel=rbf;, score=0.969 total time=   0.0s\n",
      "[CV 5/5] END .......C=10, gamma=0.1, kernel=rbf;, score=0.967 total time=   0.0s\n",
      "[CV 1/5] END ...C=10, gamma=0.01, kernel=linear;, score=0.967 total time=   0.0s\n",
      "[CV 2/5] END ...C=10, gamma=0.01, kernel=linear;, score=0.964 total time=   0.0s\n",
      "[CV 3/5] END ...C=10, gamma=0.01, kernel=linear;, score=0.969 total time=   0.0s\n",
      "[CV 4/5] END ...C=10, gamma=0.01, kernel=linear;, score=0.967 total time=   0.0s\n",
      "[CV 5/5] END ...C=10, gamma=0.01, kernel=linear;, score=0.964 total time=   0.0s\n",
      "[CV 1/5] END .....C=10, gamma=0.01, kernel=poly;, score=0.973 total time=   0.4s\n",
      "[CV 2/5] END .....C=10, gamma=0.01, kernel=poly;, score=0.969 total time=   0.4s\n",
      "[CV 3/5] END .....C=10, gamma=0.01, kernel=poly;, score=0.976 total time=   0.3s\n",
      "[CV 4/5] END .....C=10, gamma=0.01, kernel=poly;, score=0.974 total time=   0.3s\n",
      "[CV 5/5] END .....C=10, gamma=0.01, kernel=poly;, score=0.961 total time=   0.3s\n",
      "[CV 1/5] END ......C=10, gamma=0.01, kernel=rbf;, score=0.973 total time=   0.0s\n",
      "[CV 2/5] END ......C=10, gamma=0.01, kernel=rbf;, score=0.971 total time=   0.0s\n",
      "[CV 3/5] END ......C=10, gamma=0.01, kernel=rbf;, score=0.979 total time=   0.0s\n",
      "[CV 4/5] END ......C=10, gamma=0.01, kernel=rbf;, score=0.970 total time=   0.0s\n",
      "[CV 5/5] END ......C=10, gamma=0.01, kernel=rbf;, score=0.967 total time=   0.0s\n",
      "{'C': 1, 'gamma': 0.1, 'kernel': 'rbf'}\n",
      "SVC(C=1, gamma=0.1)\n"
     ]
    }
   ],
   "source": [
    "\n",
    "# defining parameter range\n",
    "param_grid = {'C': [0.1, 1, 10],\n",
    "              'gamma': [1, 0.1, 0.01],\n",
    "              'kernel': [ 'linear', 'poly', 'rbf']}\n",
    " \n",
    "grid = GridSearchCV(SVC(), param_grid, refit = True, verbose = 3)\n",
    " \n",
    "# fitting the model for grid search\n",
    "grid.fit(X_train, y_train)\n",
    "\n",
    "print(grid.best_params_)\n",
    "print(grid.best_estimator_)\n"
   ]
  },
  {
   "cell_type": "markdown",
   "id": "9fde5f76",
   "metadata": {},
   "source": [
    "## - Build SVM model with the best hyperparameters and all principal components and print time, accuracy and f1_score\n",
    "Note: Run the last cell with definition of the evaluation function"
   ]
  },
  {
   "cell_type": "code",
   "execution_count": 25,
   "id": "08167285",
   "metadata": {},
   "outputs": [
    {
     "name": "stdout",
     "output_type": "stream",
     "text": [
      "Train Result:n================================================\n",
      "[[1708   30]\n",
      " [  24 1738]]\n",
      "Accuracy0.9845714285714285\n",
      "f1: 0.9847025495750709\n",
      "Test Result:n================================================\n",
      "[[730  32]\n",
      " [ 24 715]]\n",
      "Accuracy0.9626915389740173\n",
      "f1: 0.9623149394347242\n",
      "time taken to fit model: 0.690826416015625\n"
     ]
    }
   ],
   "source": [
    "begin = time.time()\n",
    "original_model = SVC(kernel='rbf', degree=2, gamma=1, coef0=1, C=1)\n",
    "original_model.fit(X_train, y_train)\n",
    "print_score(original_model, X_train, y_train, X_test, y_test, train=True)\n",
    "print_score(original_model, X_train, y_train, X_test, y_test, train=False)\n",
    "end = time.time()\n",
    "\n",
    "print(f\"time taken to fit model: {end - begin}\")"
   ]
  },
  {
   "cell_type": "markdown",
   "id": "9386baf9",
   "metadata": {},
   "source": [
    "## - Build SVM model with best hyperparameters and one principal component and print time"
   ]
  },
  {
   "cell_type": "code",
   "execution_count": 26,
   "id": "8b497e1c",
   "metadata": {},
   "outputs": [],
   "source": [
    "pca_gender = PCA(n_components = 1)\n",
    "X_train_one = pca_gender.fit_transform(X_train)\n",
    "X_test_one = pca_gender.transform(X_test)"
   ]
  },
  {
   "cell_type": "code",
   "execution_count": 27,
   "id": "00363929",
   "metadata": {},
   "outputs": [
    {
     "name": "stdout",
     "output_type": "stream",
     "text": [
      "Train Result:n================================================\n",
      "[[1679   59]\n",
      " [  41 1721]]\n",
      "Accuracy0.9714285714285714\n",
      "f1: 0.9717673630717109\n",
      "Test Result:n================================================\n",
      "[[731  31]\n",
      " [ 21 718]]\n",
      "Accuracy0.9653564290473018\n",
      "f1: 0.9650537634408602\n",
      "time taken to fit model: 0.3621859550476074\n"
     ]
    }
   ],
   "source": [
    "begin = time.time()\n",
    "first_model = SVC(kernel='rbf', degree=2, gamma=1, coef0=1, C=1)\n",
    "first_model.fit(X_train_one, y_train)\n",
    "print_score(first_model, X_train_one, y_train, X_test_one, y_test, train=True)\n",
    "print_score(first_model, X_train_one, y_train, X_test_one, y_test, train=False)\n",
    "end = time.time()\n",
    "\n",
    "print(f\"time taken to fit model: {end - begin}\")"
   ]
  },
  {
   "cell_type": "markdown",
   "id": "2f300e5b",
   "metadata": {},
   "source": [
    "## - Build SVM model with two principal components"
   ]
  },
  {
   "cell_type": "code",
   "execution_count": 30,
   "id": "00ec1845",
   "metadata": {},
   "outputs": [],
   "source": [
    "pca_gender = PCA(n_components = 2)\n",
    "X_train_two = pca_gender.fit_transform(X_train)\n",
    "X_test_two = pca_gender.transform(X_test)"
   ]
  },
  {
   "cell_type": "code",
   "execution_count": 31,
   "id": "04aea0ba",
   "metadata": {},
   "outputs": [
    {
     "name": "stdout",
     "output_type": "stream",
     "text": [
      "Train Result:n================================================\n",
      "[[1680   58]\n",
      " [  43 1719]]\n",
      "Accuracy0.9711428571428572\n",
      "f1: 0.9714608646510313\n",
      "Test Result:n================================================\n",
      "[[733  29]\n",
      " [ 23 716]]\n",
      "Accuracy0.9653564290473018\n",
      "f1: 0.9649595687331537\n",
      "time taken to fit model: 0.28285861015319824\n"
     ]
    }
   ],
   "source": [
    "begin = time.time()\n",
    "second_model = SVC(kernel='rbf', degree=2, gamma=1, coef0=1, C=1)\n",
    "second_model.fit(X_train_two, y_train)\n",
    "print_score(second_model, X_train_two, y_train, X_test_two, y_test, train=True)\n",
    "print_score(second_model, X_train_two, y_train, X_test_two, y_test, train=False)\n",
    "end = time.time()\n",
    "\n",
    "print(f\"time taken to fit model: {end - begin}\")"
   ]
  },
  {
   "cell_type": "markdown",
   "id": "dad6cd19",
   "metadata": {},
   "source": [
    "## - Build SVM model with three principal components"
   ]
  },
  {
   "cell_type": "code",
   "execution_count": 32,
   "id": "251e42ca",
   "metadata": {},
   "outputs": [],
   "source": [
    "pca_gender = PCA(n_components = 3)\n",
    "X_train_three = pca_gender.fit_transform(X_train)\n",
    "X_test_three = pca_gender.transform(X_test)"
   ]
  },
  {
   "cell_type": "code",
   "execution_count": 33,
   "id": "3bf928a0",
   "metadata": {},
   "outputs": [
    {
     "name": "stdout",
     "output_type": "stream",
     "text": [
      "Train Result:n================================================\n",
      "[[1683   55]\n",
      " [  29 1733]]\n",
      "Accuracy0.976\n",
      "f1: 0.976338028169014\n",
      "Test Result:n================================================\n",
      "[[733  29]\n",
      " [ 15 724]]\n",
      "Accuracy0.9706862091938707\n",
      "f1: 0.9705093833780162\n",
      "time taken to fit model: 0.32982826232910156\n"
     ]
    }
   ],
   "source": [
    "begin = time.time()\n",
    "third_model = SVC(kernel='rbf', degree=2, gamma=1, coef0=1, C=1)\n",
    "third_model.fit(X_train_three, y_train)\n",
    "print_score(third_model, X_train_three, y_train, X_test_three, y_test, train=True)\n",
    "print_score(third_model, X_train_three, y_train, X_test_three, y_test, train=False)\n",
    "end = time.time()\n",
    "\n",
    "print(f\"time taken to fit model: {end - begin}\")"
   ]
  },
  {
   "cell_type": "markdown",
   "id": "5cc126df",
   "metadata": {},
   "source": [
    "## I would go with the model with three principal components based on the variance graph and the previous models"
   ]
  },
  {
   "cell_type": "code",
   "execution_count": 14,
   "id": "72bac550",
   "metadata": {},
   "outputs": [],
   "source": [
    "def print_score(f_model, X_train, y_train, X_test, y_test, train=True):\n",
    "    if train:\n",
    "        y_pred = f_model.predict(X_train)\n",
    "        print(\"Train Result:n================================================\")\n",
    "        \n",
    "        cm = confusion_matrix(y_train, y_pred)\n",
    "        print(cm)\n",
    "        print('Accuracy' + str(accuracy_score(y_train, y_pred)))\n",
    "        print('f1: ' + str(f1_score(y_train, y_pred)))\n",
    "    elif train==False:\n",
    "        y_pred = f_model.predict(X_test)\n",
    "        print(\"Test Result:n================================================\")        \n",
    "        cm = confusion_matrix(y_test, y_pred)\n",
    "        print(cm)\n",
    "        print('Accuracy' + str(accuracy_score(y_test, y_pred)))\n",
    "        print('f1: ' + str(f1_score(y_test, y_pred)))"
   ]
  }
 ],
 "metadata": {
  "kernelspec": {
   "display_name": "Python 3 (ipykernel)",
   "language": "python",
   "name": "python3"
  },
  "language_info": {
   "codemirror_mode": {
    "name": "ipython",
    "version": 3
   },
   "file_extension": ".py",
   "mimetype": "text/x-python",
   "name": "python",
   "nbconvert_exporter": "python",
   "pygments_lexer": "ipython3",
   "version": "3.9.7"
  }
 },
 "nbformat": 4,
 "nbformat_minor": 5
}
